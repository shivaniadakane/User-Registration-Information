{
 "cells": [
  {
   "cell_type": "markdown",
   "id": "171a9d55",
   "metadata": {},
   "source": [
    "# User Registration Information - SQL Table"
   ]
  },
  {
   "cell_type": "code",
   "execution_count": null,
   "id": "61fb858f",
   "metadata": {},
   "outputs": [],
   "source": [
    "# Importing libraries\n",
    "from sqlalchemy import create_engine, Column, Integer, String, Date, select, text, MetaData, Table\n",
    "from sqlalchemy.ext.declarative import declarative_base\n",
    "from sqlalchemy.orm import sessionmaker"
   ]
  },
  {
   "cell_type": "code",
   "execution_count": null,
   "id": "363237df",
   "metadata": {},
   "outputs": [],
   "source": [
    "# Connector for python programs to MySQL\n",
    "user_name = 'root'\n",
    "database = 'Register'\n",
    "your_password = 'Sql@12345'\n",
    "engine = create_engine(f'mysql+pymysql://{user_name}:%s@localhost:3306/{database}' % text(f'{your_password}'))"
   ]
  },
  {
   "cell_type": "code",
   "execution_count": null,
   "id": "37e3984d",
   "metadata": {},
   "outputs": [],
   "source": [
    "# Provides a common base for all your table classes\n",
    "Base = declarative_base()"
   ]
  },
  {
   "cell_type": "code",
   "execution_count": null,
   "id": "fa3152c0",
   "metadata": {},
   "outputs": [],
   "source": [
    "# Storing user registration information\n",
    "class Registration(Base):\n",
    "    __tablename__ = 'Registration'\n",
    "    ID = Column(Integer, primary_key=True, autoincrement=True)\n",
    "    Name = Column(String(255), nullable=False)\n",
    "    Email = Column(String(255), nullable=False, unique=True)\n",
    "    DateOfBirth = Column(Date)\n",
    "    \n",
    "# Create the 'Registration' table in the database\n",
    "Base.metadata.create_all(engine)\n",
    "\n",
    "# Create a session to interact with the database\n",
    "Session = sessionmaker(bind=engine)\n",
    "session = Session()"
   ]
  },
  {
   "cell_type": "code",
   "execution_count": null,
   "id": "f6037492",
   "metadata": {},
   "outputs": [],
   "source": [
    "# CRUD operations\n",
    "# Create\n",
    "def create_record(name, email, dob):\n",
    "    new_record = Registration(Name=name, Email=email, DateOfBirth=dob)\n",
    "    session.add(new_record)\n",
    "    session.commit()\n",
    "\n",
    "# Read\n",
    "def get_record_by_id(record_id):\n",
    "    return session.query(Registration).get(record_id)\n",
    "\n",
    "# Update\n",
    "def update_record(record_id, new_name):\n",
    "    record = session.query(Registration).get(record_id)\n",
    "    record.Name = new_name\n",
    "    session.commit()\n",
    "\n",
    "# Delete\n",
    "def delete_record(record_id):\n",
    "    record = session.query(Registration).get(record_id)\n",
    "    session.delete(record)\n",
    "    session.commit()\n",
    "    \n",
    "# Drop\n",
    "def drop_table(engine, table_name):\n",
    "    metadata = MetaData(bind=engine)\n",
    "    metadata.reflect()\n",
    "    Table(table_name, metadata, autoload_with=engine).drop(checkfirst=True)"
   ]
  },
  {
   "cell_type": "code",
   "execution_count": null,
   "id": "b67a31a4",
   "metadata": {},
   "outputs": [],
   "source": [
    "# Example - Create\n",
    "create_record(\"John Doe\", \"john@example.com\", \"1990-01-01\")"
   ]
  },
  {
   "cell_type": "code",
   "execution_count": null,
   "id": "cd71d193",
   "metadata": {},
   "outputs": [],
   "source": [
    "# Read\n",
    "record_id = get_record_by_id(1)\n",
    "print(record_id.Name)"
   ]
  },
  {
   "cell_type": "code",
   "execution_count": null,
   "id": "a280f284",
   "metadata": {},
   "outputs": [],
   "source": [
    "# Update\n",
    "update_record(1, \"Jane Doe\")"
   ]
  },
  {
   "cell_type": "code",
   "execution_count": null,
   "id": "aaf0a9a0",
   "metadata": {},
   "outputs": [],
   "source": [
    "# Delete\n",
    "delete_record(1)"
   ]
  },
  {
   "cell_type": "code",
   "execution_count": null,
   "id": "e9dccbe7",
   "metadata": {},
   "outputs": [],
   "source": [
    "# Dropping a Registration table   \n",
    "# Drop\n",
    "def drop_table(engine, table_name):\n",
    "    metadata = MetaData(bind=engine)\n",
    "    metadata.reflect()\n",
    "    Table(table_name, metadata, autoload_with=engine).drop(checkfirst=True)\n",
    "    \n",
    "# Drop\n",
    "drop_table(engine, 'Registration')"
   ]
  }
 ],
 "metadata": {
  "kernelspec": {
   "display_name": "Python 3 (ipykernel)",
   "language": "python",
   "name": "python3"
  },
  "language_info": {
   "codemirror_mode": {
    "name": "ipython",
    "version": 3
   },
   "file_extension": ".py",
   "mimetype": "text/x-python",
   "name": "python",
   "nbconvert_exporter": "python",
   "pygments_lexer": "ipython3",
   "version": "3.9.12"
  }
 },
 "nbformat": 4,
 "nbformat_minor": 5
}
